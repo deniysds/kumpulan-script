{
 "cells": [
  {
   "cell_type": "code",
   "execution_count": null,
   "metadata": {
    "id": "cCy_wTT8b2Eo",
    "scrolled": true
   },
   "outputs": [],
   "source": [
    "import os\n",
    "\n",
    "Reference=input(str())  # input name of Genome Reference assembly until .gz\n",
    "fastq=input(str())      # input name of fastq file without format file\n",
    "Sample=input(str())     # input name output of sampel\n",
    "vcf_ref=input(str())    # input name of vcf reference for annotation until .gz\n",
    "min_ram=input(int())\n",
    "max_ram=input(int())\n",
    "thread=input(int())"
   ]
  },
  {
   "cell_type": "code",
   "execution_count": null,
   "metadata": {},
   "outputs": [],
   "source": [
    "min_ram=input(int())\n",
    "max_ram=input(int())\n",
    "thread=input(int())"
   ]
  },
  {
   "cell_type": "code",
   "execution_count": 16,
   "metadata": {
    "id": "wMecLXr1b2Er"
   },
   "outputs": [],
   "source": [
    "# Preparation of Reference\n",
    "index_reference=(\"\"\"bwa index \"\"\" +Reference)\n",
    "Dictonary_ref=(\"\"\"gatk --java-options \"-Xms\"\"\"+min_ram+\"\"\"g -Xmx\"\"\"+max_ram+\"\"\"g\" CreateSequenceDictionary -R \"\"\" +Reference)\n",
    "Fastaidx_ref=(\"\"\"samtools faidx \"\"\" +Reference)"
   ]
  },
  {
   "cell_type": "code",
   "execution_count": 2,
   "metadata": {
    "id": "j7X0LL-gb2Es"
   },
   "outputs": [],
   "source": [
    "# Alligentment fastq to reference\n",
    "aligenment=(\"\"\"bwa mem -t \"\"\" + thread + ' ' + Reference + ' '+fastq+\"\"\"_1.filt.fastq.gz \"\"\"+ fastq+\"\"\"_2.filt.fastq.gz -o \"\"\"+Sample+'.bam')"
   ]
  },
  {
   "cell_type": "code",
   "execution_count": 3,
   "metadata": {
    "id": "3s10s7Dbb2Es"
   },
   "outputs": [],
   "source": [
    "# Sorted sam/bam file\n",
    "Sorted_Sam=(\"\"\"gatk --java-options \"-Xms\"\"\"+min_ram+\"\"\"g -Xmx\"\"\"+max_ram+\"\"\"g\" SortSam -CREATE_INDEX true\"\"\" \n",
    "                \"\"\" -I \"\"\" +Sample+\"\"\".bam\"\"\"\n",
    "                \"\"\" -O \"\"\" +Sample+\"\"\".sorted.bam\"\"\"\n",
    "                \"\"\" -SO coordinate\"\"\")\n",
    "\n",
    "# Mark and Deleted Duplicate\n",
    "Mark_Duplicate=(\"\"\"gatk --java-options \"-Xms\"\"\"+min_ram+\"\"\"g -Xmx\"\"\"+max_ram+\"\"\"g\" MarkDuplicates -CREATE_INDEX true\"\"\" \n",
    "                \"\"\" -I \"\"\" +Sample+\"\"\".sorted.bam\"\"\"\n",
    "                \"\"\" -O \"\"\" +Sample+\"\"\".marked.bam\"\"\"\n",
    "                \"\"\" -M \"\"\" +Sample+\"\"\"_Matric.txt --REMOVE_SEQUENCING_DUPLICATES true\"\"\")\n",
    "\n",
    "# Replace null groups\n",
    "Replace=(\"\"\"gatk --java-options \"-Xms\"\"\"+min_ram+\"\"\"g -Xmx\"\"\"+max_ram+\"\"\"g\" AddOrReplaceReadGroups -CREATE_INDEX true\"\"\" \n",
    "                \"\"\" -I \"\"\" +Sample+\"\"\".marked.bam\"\"\"\n",
    "                \"\"\" -O \"\"\" +Sample+\"\"\".replace.bam\"\"\"\n",
    "                \"\"\" -RGID 1 -RGPL ILLUMINA -RGLB lib1 -RGPU unit1 -RGSM Sample\"\"\")"
   ]
  },
  {
   "cell_type": "code",
   "execution_count": 4,
   "metadata": {
    "id": "mJTQweNPb2Es"
   },
   "outputs": [],
   "source": [
    "# Generate VCF\n",
    "Haplotypecaller=(\"\"\"gatk --java-options \"-Xms\"\"\"+min_ram+\"\"\"g -Xmx\"\"\"+max_ram+\"\"\"g\" HaplotypeCaller\"\"\"\n",
    "                \"\"\" -R \"\"\" +Reference+\n",
    "                \"\"\" -I \"\"\" +Sample+\"\"\".replace.bam\"\"\"\n",
    "                \"\"\" -O \"\"\" +Sample+\"\"\".vcf\"\"\"\n",
    "                \"\"\" --native-pair-hmm-threads \"\"\"+ thread)"
   ]
  },
  {
   "cell_type": "code",
   "execution_count": 26,
   "metadata": {
    "id": "1XVPpDkIb2E1"
   },
   "outputs": [],
   "source": [
    "# Annotation\n",
    "# Create index vcf\n",
    "compress_sample=(\"\"\"bgzip -@ \"\"\" + thread +' '+ Sample+'.vcf')\n",
    "Sample_index=(\"bcftools index --force --output \" +Sample+\".vcf.gz.csi \" +Sample+\".vcf.gz\")\n",
    "Ref_index=(\"bcftools index --force --output \" +vcf_ref+\".vcf.gz.csi \" +vcf_ref+\".vcf.gz\")\n",
    "\n",
    "# rename chromosome\n",
    "rename=(\"bcftools annotate --rename-chrs chr_names.txt \" +Sample+'.vcf.gz -Oz -o '+ Sample+'_rename.vcf.gz')\n",
    "\n",
    "# Annotate\n",
    "Annotate=(\"\"\"bcftools annotate -a \"\"\" +vcf_ref+\"\"\".vcf.gz -c ID -O z -o \"\"\"+ Sample+\"\"\"_annotated.vcf.gz \"\"\"+ Sample+\"\"\"_rename.vcf.gz --thread \"\"\" + thread)\n",
    "\n",
    "# Fillter\n",
    "Fillter=(\"\"\"bcftools filter -e 'ID=\".\"' \"\"\"+Sample+\"\"\"_annotate.vcf.gz -o Trial_filtered.vcf\"\"\")\n"
   ]
  },
  {
   "cell_type": "code",
   "execution_count": null,
   "metadata": {
    "colab": {
     "base_uri": "https://localhost:8080/",
     "height": 53
    },
    "executionInfo": {
     "elapsed": 551,
     "status": "ok",
     "timestamp": 1679495284618,
     "user": {
      "displayName": "Daeng Deni",
      "userId": "05047475339249669326"
     },
     "user_tz": -420
    },
    "id": "jLdfAaUyb2E9",
    "outputId": "7618df71-9b6d-4060-e2e1-c13e608cad08",
    "scrolled": true
   },
   "outputs": [],
   "source": [
    "#For running do os.system(fill bellow command)\n",
    "#os.system(Reference)\n",
    "#os.system(fastq)\n",
    "#os.system(Sample)\n",
    "#os.system(vcf_ref)\n",
    "#os.system(index_reference)\n",
    "#os.system(Dictonary_ref)\n",
    "#os.system(Fastaidx_ref)\n",
    "os.system(aligenment)\n",
    "os.system(Sorted_Sam)\n",
    "os.system(Mark_Duplicate)\n",
    "os.system(Replace)\n",
    "os.system(Haplotypecaller)\n",
    "#os.system(compress_sample)\n",
    "#os.system(Sample_index)\n",
    "#os.system(Ref_index)\n",
    "#os.system(rename)\n",
    "#os.system(Annotate)\n",
    "#os.system(Fillter)"
   ]
  }
 ],
 "metadata": {
  "accelerator": "GPU",
  "colab": {
   "provenance": []
  },
  "gpuClass": "standard",
  "kernelspec": {
   "display_name": "Python 3 (ipykernel)",
   "language": "python",
   "name": "python3"
  },
  "language_info": {
   "codemirror_mode": {
    "name": "ipython",
    "version": 3
   },
   "file_extension": ".py",
   "mimetype": "text/x-python",
   "name": "python",
   "nbconvert_exporter": "python",
   "pygments_lexer": "ipython3",
   "version": "3.10.6"
  }
 },
 "nbformat": 4,
 "nbformat_minor": 1
}
